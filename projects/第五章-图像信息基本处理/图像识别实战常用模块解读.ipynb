{
 "cells": [
  {
   "cell_type": "markdown",
   "metadata": {},
   "source": [
    "# 基于经典网络架构训练图像分类模型"
   ]
  },
  {
   "cell_type": "markdown",
   "metadata": {},
   "source": [
    "### 数据预处理部分：\n",
    "\n",
    "- 数据增强：torchvision中transforms模块自带功能，比较实用\n",
    "- 数据预处理：torchvision中transforms也帮我们实现好了，直接调用即可\n",
    "- DataLoader模块直接读取batch数据\n",
    "\n",
    "### 网络模块设置：\n",
    "\n",
    "- 加载预训练模型，torchvision中有很多经典网络架构，调用起来十分方便，并且可以用人家训练好的权重参数来继续训练，也就是所谓的迁移学习\n",
    "- 需要注意的是别人训练好的任务跟咱们的可不是完全一样，需要把最后的head层改一改，一般也就是最后的全连接层，改成咱们自己的任务\n",
    "- 训练时可以全部重头训练，也可以只训练最后咱们任务的层，因为前几层都是做特征提取的，本质任务目标是一致的\n",
    "\n",
    "### 网络模型保存与测试\n",
    "- 模型保存的时候可以带有选择性，例如在验证集中如果当前效果好则保存\n",
    "- 读取模型进行实际测试\n",
    "\n",
    "![title](1.png)"
   ]
  },
  {
   "cell_type": "code",
   "execution_count": 1,
   "metadata": {
    "colab": {
     "base_uri": "https://localhost:8080/",
     "height": 530
    },
    "colab_type": "code",
    "id": "Qqk2lCKzYf-y",
    "outputId": "2354909a-d734-4dd8-e887-eb5373d9127e"
   },
   "outputs": [],
   "source": [
    "import os\n",
    "import matplotlib.pyplot as plt\n",
    "%matplotlib inline\n",
    "import numpy as np\n",
    "import torch\n",
    "from torch import nn\n",
    "import torch.optim as optim\n",
    "import torchvision\n",
    "#pip install torchvision\n",
    "from torchvision import transforms, models, datasets\n",
    "#https://pytorch.org/docs/stable/torchvision/index.html\n",
    "import imageio\n",
    "import time\n",
    "import warnings\n",
    "warnings.filterwarnings(\"ignore\")\n",
    "import random\n",
    "import sys\n",
    "import copy\n",
    "import json\n",
    "from PIL import Image"
   ]
  },
  {
   "cell_type": "markdown",
   "metadata": {
    "colab_type": "text",
    "id": "Wa2qCaSOd9_J"
   },
   "source": [
    "### 数据读取与预处理操作"
   ]
  },
  {
   "cell_type": "code",
   "execution_count": 2,
   "metadata": {
    "colab": {},
    "colab_type": "code",
    "id": "S2lHfvKMd9_J"
   },
   "outputs": [],
   "source": [
    "data_dir = './flower_data/'\n",
    "train_dir = data_dir + '/train'\n",
    "valid_dir = data_dir + '/valid'"
   ]
  },
  {
   "cell_type": "markdown",
   "metadata": {},
   "source": [
    "### 制作好数据源：\n",
    "- data_transforms中指定了所有图像预处理操作\n",
    "- ImageFolder假设所有的文件按文件夹保存好，每个文件夹下面存贮同一类别的图片，文件夹的名字为分类的名字"
   ]
  },
  {
   "cell_type": "markdown",
   "metadata": {},
   "source": [
    "# 数据增强\n",
    "数据量太少，可以使用数据增强高效利用测试数据\n",
    "旋转\n",
    "侧翻\n",
    "......\n",
    "![image.png](./imgs/1.png)"
   ]
  },
  {
   "cell_type": "code",
   "execution_count": 3,
   "metadata": {
    "colab": {},
    "colab_type": "code",
    "id": "5y6IxsmtQ0hR"
   },
   "outputs": [],
   "source": [
    "data_transforms = {\n",
    "    'train':\n",
    "        # 组合，按顺序依次完成以下任务\n",
    "        transforms.Compose([\n",
    "        # 统一花的尺寸\n",
    "        transforms.Resize([96, 96]),\n",
    "        # 随机旋转，-45到45度之间随机选\n",
    "        transforms.RandomRotation(45),\n",
    "        # 从中心开始裁剪\n",
    "        transforms.CenterCrop(64),\n",
    "        # 随机水平翻转 选择一个概率概率\n",
    "        transforms.RandomHorizontalFlip(p=0.5),\n",
    "        # 随机垂直翻转\n",
    "        transforms.RandomVerticalFlip(p=0.5),\n",
    "        # 参数1为亮度，参数2为对比度，参数3为饱和度，参数4为色相\n",
    "        transforms.ColorJitter(brightness=0.2, contrast=0.1, saturation=0.1, hue=0.1),\n",
    "        # 概率转换成灰度率，3通道就是R=G=B\n",
    "        transforms.RandomGrayscale(p=0.025),\n",
    "        # 必做\n",
    "        transforms.ToTensor(),\n",
    "        # 均值，标准差\n",
    "        # 利用经过检验的标准差、均值来做任务（一些现有的，好的，成熟的试验结论数据）\n",
    "        # 三个参数分别代表 R、G、B\n",
    "        transforms.Normalize([0.485, 0.456, 0.406], [0.229, 0.224, 0.225])\n",
    "    ]),\n",
    "    'valid': \n",
    "        transforms.Compose([\n",
    "        transforms.Resize([64, 64]),\n",
    "        transforms.ToTensor(),\n",
    "        # 测试数据 和 验证数据 的均值和标准差需要一致\n",
    "        transforms.Normalize([0.485, 0.456, 0.406], [0.229, 0.224, 0.225])\n",
    "    ]),\n",
    "}"
   ]
  },
  {
   "cell_type": "code",
   "execution_count": 4,
   "metadata": {
    "colab": {},
    "colab_type": "code",
    "id": "ebneIHSWP74J"
   },
   "outputs": [],
   "source": [
    "batch_size = 128\n",
    "# 读取文件夹内的训练、测试数据集\n",
    "image_datasets = {x: datasets.ImageFolder(os.path.join(data_dir, x), data_transforms[x]) for x in ['train', 'valid']}\n",
    "# 计算下训练集和验证集的数据总数\n",
    "dataloaders = {x: torch.utils.data.DataLoader(image_datasets[x], batch_size=batch_size, shuffle=True) for x in ['train', 'valid']}\n",
    "dataset_sizes = {x: len(image_datasets[x]) for x in ['train', 'valid']}\n",
    "class_names = image_datasets['train'].classes"
   ]
  },
  {
   "cell_type": "code",
   "execution_count": 5,
   "metadata": {},
   "outputs": [
    {
     "name": "stdout",
     "output_type": "stream",
     "text": [
      "6552\n",
      "818\n"
     ]
    }
   ],
   "source": [
    "print(len(image_datasets['train']))\n",
    "print(len(image_datasets['valid']))"
   ]
  },
  {
   "cell_type": "code",
   "execution_count": 6,
   "metadata": {},
   "outputs": [
    {
     "name": "stdout",
     "output_type": "stream",
     "text": [
      "52\n",
      "7\n"
     ]
    }
   ],
   "source": [
    "# 总数 / batch_size-128\n",
    "print(len(dataloaders['train']))\n",
    "print(len(dataloaders['valid']))"
   ]
  },
  {
   "cell_type": "markdown",
   "metadata": {
    "colab_type": "text",
    "id": "8JvBFT6qd9_M"
   },
   "source": [
    "### 读取标签对应的实际名字"
   ]
  },
  {
   "cell_type": "code",
   "execution_count": 7,
   "metadata": {
    "colab": {},
    "colab_type": "code",
    "id": "YlHjfyDRd9_N"
   },
   "outputs": [],
   "source": [
    "with open('cat_to_name.json', 'r') as f:\n",
    "    cat_to_name = json.load(f)"
   ]
  },
  {
   "cell_type": "code",
   "execution_count": 8,
   "metadata": {
    "colab": {
     "base_uri": "https://localhost:8080/",
     "height": 1751
    },
    "colab_type": "code",
    "id": "SiPBCbEpqX8P",
    "outputId": "0bbdec1b-65bc-4999-9e43-4b448c979cb8"
   },
   "outputs": [
    {
     "name": "stdout",
     "output_type": "stream",
     "text": [
      "类别个数:  102\n"
     ]
    }
   ],
   "source": [
    "cat_to_name_dict = dict(sorted(cat_to_name.items(), key=lambda item: item[0]))  \n",
    "print('类别个数: ', len(cat_to_name_dict.keys()))"
   ]
  },
  {
   "cell_type": "markdown",
   "metadata": {
    "colab_type": "text",
    "id": "wSBGNSA8RPfU"
   },
   "source": [
    "### 加载models中提供的模型，并且直接用训练的好权重当做初始化参数\n",
    "- 第一次执行需要下载，可能会比较慢，我会提供给大家一份下载好的，可以直接放到相应路径"
   ]
  },
  {
   "cell_type": "code",
   "execution_count": 9,
   "metadata": {
    "colab": {
     "base_uri": "https://localhost:8080/",
     "height": 34
    },
    "colab_type": "code",
    "id": "pU4AlTEuiBtZ",
    "outputId": "54868c22-b059-4eda-9e4f-0911a4b372b9"
   },
   "outputs": [
    {
     "name": "stdout",
     "output_type": "stream",
     "text": [
      "CUDA is not available.  Training on CPU ...\n"
     ]
    }
   ],
   "source": [
    "# 是否用GPU训练\n",
    "train_on_gpu = torch.cuda.is_available()\n",
    "\n",
    "if not train_on_gpu:\n",
    "    print('CUDA is not available.  Training on CPU ...')\n",
    "else:\n",
    "    print('CUDA is available!  Training on GPU ...')\n",
    "# 判断当前使用 CPU 还是 GPU\n",
    "device = torch.device(\"cuda:0\" if torch.cuda.is_available() else \"cpu\")"
   ]
  },
  {
   "cell_type": "markdown",
   "metadata": {},
   "source": [
    "#### 模型参数要不要更新\n",
    "- 有时候用人家模型，就一直用了，更不更新咱们可以自己定"
   ]
  },
  {
   "cell_type": "code",
   "execution_count": 10,
   "metadata": {
    "colab": {},
    "colab_type": "code",
    "id": "tfjrGAg5W5dE"
   },
   "outputs": [],
   "source": [
    "# 模型权重参数等部分的训练过程暂时不用 “冻结” 起来，仅用 输出层\n",
    "def set_parameter_requires_grad(model, feature_extracting):\n",
    "    if feature_extracting:\n",
    "        for param in model.parameters():\n",
    "            param.requires_grad = False"
   ]
  },
  {
   "cell_type": "code",
   "execution_count": 11,
   "metadata": {},
   "outputs": [
    {
     "name": "stdout",
     "output_type": "stream",
     "text": [
      "conv1\n",
      "bn1\n",
      "relu\n",
      "maxpool\n",
      "layer1\n",
      "layer2\n",
      "layer3\n",
      "layer4\n",
      "avgpool\n",
      "fc\n"
     ]
    }
   ],
   "source": [
    "# 18层的能快点，条件好点的也可以选152\n",
    "model_ft = models.resnet152()\n",
    "my_models = model_ft._modules\n",
    "for key, _ in my_models.items():\n",
    "    print(key)"
   ]
  },
  {
   "cell_type": "markdown",
   "metadata": {},
   "source": [
    "### 把模型输出层改成自己的"
   ]
  },
  {
   "cell_type": "code",
   "execution_count": 12,
   "metadata": {
    "colab": {},
    "colab_type": "code",
    "id": "D85BPk2GXBbj"
   },
   "outputs": [],
   "source": [
    "# 由于初始模型的配置不太符合本案例\n",
    "# 比如 resnet18 初始是 1000 分类任务，所以需要修改下\n",
    "def initialize_model(model_name, num_classes, feature_extract, use_pretrained=True):\n",
    "    # 定义网络结构\n",
    "    model_ft = model_name(pretrained=use_pretrained)\n",
    "    # 禁止更新模型中的权重参数（因为本次案例训练数据过少，更新参数效果不一定好，所以直接用前人训练好的模型参数）\n",
    "    set_parameter_requires_grad(model_ft, feature_extract)\n",
    "    # 根据网络结构重新定义适配本案例的全连接层\n",
    "    num_ftrs = model_ft.fc.in_features\n",
    "    # 类别数自己根据自己任务来\n",
    "    model_ft.fc = nn.Linear(num_ftrs, num_classes)\n",
    "    # 输入大小根据自己配置来\n",
    "    input_size = 64\n",
    "\n",
    "    return model_ft, input_size"
   ]
  },
  {
   "cell_type": "markdown",
   "metadata": {},
   "source": [
    "# 定义模型名字和参数"
   ]
  },
  {
   "cell_type": "code",
   "execution_count": 13,
   "metadata": {},
   "outputs": [],
   "source": [
    "# 可选的比较多 ['resnet', 'alexnet', 'vgg', 'squeezenet', 'densenet', 'inception']，常见的是 resnet\n",
    "model_fun = {  \n",
    "    \"resnet18\": models.resnet18,\n",
    "    \"resnet50\": models.resnet50,\n",
    "    \"resnet101\": models.resnet101,\n",
    "    \"resnet152\": models.resnet152\n",
    "}\n",
    "# 是否用人家训练好的特征来做\n",
    "# 都用人家特征，咱先不更新\n",
    "# 如果为 True ，除了输出层以外的训练层全部冻住，只训练输出层\n",
    "feature_extract = True\n",
    "# 分类个数\n",
    "num_classes = 102\n",
    "# 模型保存，名字自己起\n",
    "# 将训练完之后最好的模型保存下来-网络结构图、权重参数等\n",
    "filename='best.pt'"
   ]
  },
  {
   "cell_type": "markdown",
   "metadata": {
    "colab_type": "text",
    "id": "o3PCsZshRgSG"
   },
   "source": [
    "### 设置哪些层需要训练"
   ]
  },
  {
   "cell_type": "code",
   "execution_count": 14,
   "metadata": {
    "colab": {
     "base_uri": "https://localhost:8080/",
     "height": 102
    },
    "colab_type": "code",
    "id": "Nu5_c1aNU3L9",
    "outputId": "46daeef6-d017-409f-a154-8ca530765f80"
   },
   "outputs": [],
   "source": [
    "model_ft, input_size = initialize_model(model_fun['resnet18'], num_classes, feature_extract, use_pretrained=True)\n",
    "\n",
    "# GPU还是CPU计算\n",
    "model_ft = model_ft.to(device)\n",
    "\n",
    "# 是否训练所有层\n",
    "params_to_update = model_ft.parameters()\n",
    "if feature_extract:\n",
    "    names_to_update = []\n",
    "    params_to_update = []\n",
    "    for name, param in model_ft.named_parameters():\n",
    "        if param.requires_grad == True:\n",
    "            names_to_update.append(name)\n",
    "            params_to_update.append(param)\n",
    "else:\n",
    "    for name, param in model_ft.named_parameters():\n",
    "        if param.requires_grad == True:\n",
    "            continue"
   ]
  },
  {
   "cell_type": "code",
   "execution_count": 15,
   "metadata": {},
   "outputs": [
    {
     "name": "stdout",
     "output_type": "stream",
     "text": [
      "----------------------------------------------\n"
     ]
    }
   ],
   "source": [
    "# 原模型需要训练更新的网络层\n",
    "for item_key, item_value in model_ft.named_parameters():\n",
    "    # print(item_key)\n",
    "    continue\n",
    "print('----------------------------------------------')\n",
    "# 过滤后本次案例需要用到的模型\n",
    "for item_key in names_to_update:\n",
    "    # print(item_key)\n",
    "    continue"
   ]
  },
  {
   "cell_type": "markdown",
   "metadata": {
    "colab_type": "text",
    "id": "M0RxpAEhR7lL"
   },
   "source": [
    "### 优化器设置"
   ]
  },
  {
   "cell_type": "code",
   "execution_count": 16,
   "metadata": {
    "colab": {},
    "colab_type": "code",
    "id": "baLfYCINRI_H"
   },
   "outputs": [],
   "source": [
    "# 优化器设置\n",
    "#  要训练啥参数，你来定\n",
    "optimizer_ft = optim.Adam(params_to_update, lr=1e-2)\n",
    "#  学习率 每7个epoch 衰减成原来的 1/10\n",
    "scheduler = optim.lr_scheduler.StepLR(optimizer_ft, step_size=10, gamma=0.1)\n",
    "#  损失函数\n",
    "criterion = nn.CrossEntropyLoss()"
   ]
  },
  {
   "cell_type": "markdown",
   "metadata": {
    "colab_type": "text",
    "id": "s-PpMk90ShRz"
   },
   "source": [
    "### 训练模块"
   ]
  },
  {
   "cell_type": "code",
   "execution_count": 17,
   "metadata": {
    "colab": {},
    "colab_type": "code",
    "id": "EzPXJbyZXuK0"
   },
   "outputs": [],
   "source": [
    "# 开始训练\n",
    "# model-模型\n",
    "# dataloaders-训练数据、测试数据\n",
    "# criterion-损失函数\n",
    "# optimizer-优化器\n",
    "# num_epochs-迭代次数\n",
    "# filename-训练最好的模型的文件名\n",
    "def train_model(model, dataloaders, criterion, optimizer, num_epochs, filename):\n",
    "    # ************************************初始化参数-开始************************************\n",
    "    # 开始训练时间\n",
    "    since = time.time()\n",
    "    # 也要记录最好的那一次\n",
    "    best_acc = 0\n",
    "    # 模型也得放到你的CPU或者GPU\n",
    "    model.to(device)\n",
    "    # 训练过程中打印一堆损失和指标\n",
    "    # 训练集准确率\n",
    "    val_acc_history = []\n",
    "    # 验证集准确率\n",
    "    train_acc_history = []\n",
    "    # 训练集损失率\n",
    "    train_losses = []\n",
    "    # 验证集损失率\n",
    "    valid_losses = []\n",
    "    # 学习率-pytorch规定的\n",
    "    LRs = [optimizer.param_groups[0]['lr']]\n",
    "    # 最好的那次模型，后续会变的，先初始化\n",
    "    best_model_wts = copy.deepcopy(model.state_dict())\n",
    "    # ************************************初始化参数-结束************************************\n",
    "    # 一个一个 epoch 来遍历\n",
    "    for epoch in range(num_epochs):\n",
    "        print('-' * 50)\n",
    "        print('第', epoch + 1, '次 epoch 遍历')\n",
    "        # 本次迭代开始时间\n",
    "        curr_since = time.time()\n",
    "\n",
    "        # 训练和验证\n",
    "        for phase in ['train', 'valid']:\n",
    "            if phase == 'train':\n",
    "                # 训练\n",
    "                model.train()\n",
    "            else:\n",
    "                # 验证\n",
    "                model.eval()\n",
    "            running_loss = 0.0\n",
    "            running_corrects = 0\n",
    "            # 取数据和标签\n",
    "            for inputs, labels in dataloaders[phase]:\n",
    "                # 放到 CPU 或 GPU\n",
    "                # 数据\n",
    "                inputs = inputs.to(device)\n",
    "                # 标签\n",
    "                labels = labels.to(device)\n",
    "                # 梯度清零\n",
    "                optimizer.zero_grad()\n",
    "                outputs = model(inputs)\n",
    "                loss = criterion(outputs, labels)\n",
    "                _, preds = torch.max(outputs, 1)\n",
    "                # 只有训练的时候计算和更新梯度\n",
    "                # 训练阶段更新权重\n",
    "                if phase == 'train':\n",
    "                    loss.backward()\n",
    "                    optimizer.step()\n",
    "\n",
    "                # 计算损失\n",
    "                # 0表示 batch 那个维度\n",
    "                running_loss += loss.item() * inputs.size(0)\n",
    "                # 预测正确的个数\n",
    "                # 预测结果最大的和真实值是否一致\n",
    "                running_corrects += torch.sum(preds == labels.data)\n",
    "                \n",
    "            \n",
    "            # 平均损失\n",
    "            epoch_loss = running_loss / len(dataloaders[phase].dataset)\n",
    "            # 平均准确率\n",
    "            epoch_acc = running_corrects.double() / len(dataloaders[phase].dataset)\n",
    "            \n",
    "            # 一个 epoch 花费时间\n",
    "            time_elapsed = time.time() - curr_since\n",
    "            print('{} 损失率: {:.4f} 准确率: {:.4f}'.format(phase, epoch_loss, epoch_acc))\n",
    "            print('本次迭代耗时 {:.0f}m {:.0f}s'.format(time_elapsed // 60, time_elapsed % 60))\n",
    "            \n",
    "\n",
    "            # 得到最好那次的模型\n",
    "            if phase == 'valid' and epoch_acc > best_acc:\n",
    "                best_acc = epoch_acc\n",
    "                best_model_wts = copy.deepcopy(model.state_dict())\n",
    "                state = {\n",
    "                  # 字典里 key 就是各层的名字，值就是训练好的权重\n",
    "                  'state_dict': model.state_dict(),\n",
    "                  'best_acc': best_acc,\n",
    "                  'optimizer' : optimizer.state_dict(),\n",
    "                }\n",
    "                torch.save(state, filename)\n",
    "            if phase == 'valid':\n",
    "                val_acc_history.append(epoch_acc)\n",
    "                valid_losses.append(epoch_loss)\n",
    "            if phase == 'train':\n",
    "                train_acc_history.append(epoch_acc)\n",
    "                train_losses.append(epoch_loss)\n",
    "        \n",
    "        print('学习率: {:.7f}'.format(optimizer.param_groups[0]['lr']))\n",
    "        LRs.append(optimizer.param_groups[0]['lr'])\n",
    "        # 学习率衰减\n",
    "        scheduler.step()\n",
    "\n",
    "    time_elapsed = time.time() - since\n",
    "    print('训练耗时: {:.0f}m {:.0f}s'.format(time_elapsed // 60, time_elapsed % 60))\n",
    "    print('最高准确率的 epoch: {:4f}'.format(best_acc))\n",
    "\n",
    "    # 训练完后用最好的一次当做模型最终的结果,等着一会测试\n",
    "    model.load_state_dict(best_model_wts)\n",
    "    return model, val_acc_history, train_acc_history, valid_losses, train_losses, LRs "
   ]
  },
  {
   "cell_type": "markdown",
   "metadata": {},
   "source": [
    "### 开始训练！\n",
    "\n",
    "- 我们现在只训练了输出层"
   ]
  },
  {
   "cell_type": "code",
   "execution_count": null,
   "metadata": {
    "colab": {},
    "colab_type": "code",
    "id": "MXbS16p_j5U0"
   },
   "outputs": [
    {
     "name": "stdout",
     "output_type": "stream",
     "text": [
      "--------------------------------------------------\n",
      "第 1 次 epoch 遍历\n",
      "本次迭代耗时 1m 16s\n",
      "train 损失率: 3.9323 准确率: 0.2488\n",
      "本次迭代耗时 1m 25s\n",
      "valid 损失率: 3.4093 准确率: 0.2958\n",
      "学习率: 0.0100000\n",
      "--------------------------------------------------\n",
      "第 2 次 epoch 遍历\n",
      "本次迭代耗时 1m 4s\n",
      "train 损失率: 2.7855 准确率: 0.4043\n",
      "本次迭代耗时 1m 10s\n",
      "valid 损失率: 3.3514 准确率: 0.3447\n",
      "学习率: 0.0100000\n",
      "--------------------------------------------------\n",
      "第 3 次 epoch 遍历\n",
      "本次迭代耗时 1m 12s\n",
      "train 损失率: 2.7129 准确率: 0.4225\n",
      "本次迭代耗时 1m 20s\n",
      "valid 损失率: 3.6590 准确率: 0.3178\n",
      "学习率: 0.0100000\n",
      "--------------------------------------------------\n",
      "第 4 次 epoch 遍历\n",
      "本次迭代耗时 1m 4s\n",
      "train 损失率: 2.8598 准确率: 0.4199\n",
      "本次迭代耗时 1m 10s\n",
      "valid 损失率: 3.9868 准确率: 0.3068\n",
      "学习率: 0.0100000\n",
      "--------------------------------------------------\n",
      "第 5 次 epoch 遍历\n",
      "本次迭代耗时 1m 3s\n",
      "train 损失率: 2.8347 准确率: 0.4364\n",
      "本次迭代耗时 1m 9s\n",
      "valid 损失率: 4.3333 准确率: 0.2922\n",
      "学习率: 0.0100000\n",
      "--------------------------------------------------\n",
      "第 6 次 epoch 遍历\n"
     ]
    }
   ],
   "source": [
    "model_ft, val_acc_history, train_acc_history, valid_losses, train_losses, LRs = train_model(model=model_ft, dataloaders=dataloaders, criterion=criterion, optimizer=optimizer_ft, num_epochs=25, filename=filename)"
   ]
  },
  {
   "cell_type": "markdown",
   "metadata": {
    "colab_type": "text",
    "id": "7rjvtqx0TGkb"
   },
   "source": [
    "# 二、再继续训练所有层"
   ]
  },
  {
   "cell_type": "code",
   "execution_count": null,
   "metadata": {
    "colab": {},
    "colab_type": "code",
    "id": "cSGcACfmrIC6"
   },
   "outputs": [],
   "source": [
    "# 打开冻结的部分训练层，使用整个网络的全部层进行训练\n",
    "for param in model_ft.parameters():\n",
    "    param.requires_grad = True\n",
    "\n",
    "# 再继续训练所有的参数，学习率调小一点\n",
    "optimizer = optim.Adam(model_ft.parameters(), lr=1e-3)\n",
    "# 学习率衰减\n",
    "scheduler = optim.lr_scheduler.StepLR(optimizer_ft, step_size=7, gamma=0.1)\n",
    "\n",
    "# 损失函数\n",
    "criterion = nn.CrossEntropyLoss()"
   ]
  },
  {
   "cell_type": "code",
   "execution_count": null,
   "metadata": {
    "colab": {},
    "colab_type": "code",
    "id": "LFiiMNWaHXfw"
   },
   "outputs": [],
   "source": [
    "# 加载之前训练好的权重参数\n",
    "# 将训练效果最好的一次权重参数等加载进来\n",
    "filename='best.pt'\n",
    "checkpoint = torch.load(filename)\n",
    "best_acc = checkpoint['best_acc']\n",
    "model_ft.load_state_dict(checkpoint['state_dict'])"
   ]
  },
  {
   "cell_type": "code",
   "execution_count": null,
   "metadata": {
    "colab": {},
    "colab_type": "code",
    "id": "_JCiyD-ytYRu"
   },
   "outputs": [],
   "source": [
    "model_ft, val_acc_history, train_acc_history, valid_losses, train_losses, LRs = train_model(model_ft, dataloaders, criterion, optimizer, num_epochs=25, filename=filename)"
   ]
  },
  {
   "cell_type": "markdown",
   "metadata": {
    "colab_type": "text",
    "id": "EbetBY4bd9_U"
   },
   "source": [
    "### 加载训练好的模型"
   ]
  },
  {
   "cell_type": "code",
   "execution_count": null,
   "metadata": {
    "colab": {
     "base_uri": "https://localhost:8080/",
     "height": 68
    },
    "colab_type": "code",
    "id": "0IXiW9_2d9_U",
    "outputId": "2f21f369-df6a-433f-812a-1bbb87d30fa6"
   },
   "outputs": [],
   "source": [
    "# 如果发生电脑关机等事故，可以使用这种方法加载训练好的模型，无需再次重新训练\n",
    "model_ft, input_size = initialize_model(model_name=model_fun['resnet18'], num_classes=102, feature_extract=feature_extract, use_pretrained=True)\n",
    "\n",
    "# GPU模式\n",
    "model_ft = model_ft.to(device)\n",
    "\n",
    "# 加载模型\n",
    "checkpoint = torch.load(filename)\n",
    "best_acc = checkpoint['best_acc']\n",
    "model_ft.load_state_dict(checkpoint['state_dict'])"
   ]
  },
  {
   "cell_type": "markdown",
   "metadata": {
    "colab_type": "text",
    "id": "PXCZPK70d9_W"
   },
   "source": [
    "### 测试数据预处理\n",
    "\n",
    "- 测试数据处理方法需要跟训练时一直才可以 \n",
    "- crop操作的目的是保证输入的大小是一致的\n",
    "- 标准化操作也是必须的，用跟训练数据相同的mean和std,但是需要注意一点训练数据是在0-1上进行标准化，所以测试数据也需要先归一化\n",
    "- 最后一点，PyTorch中颜色通道是第一个维度，跟很多工具包都不一样，需要转换\n"
   ]
  },
  {
   "cell_type": "code",
   "execution_count": null,
   "metadata": {},
   "outputs": [],
   "source": [
    "# 得到一个 batch 的测试数据\n",
    "dataiter = iter(dataloaders['valid'])\n",
    "images, labels = dataiter.next()\n",
    "\n",
    "# 验证模式\n",
    "model_ft.eval()\n",
    "\n",
    "if train_on_gpu:\n",
    "    output = model_ft(images.cuda())\n",
    "else:\n",
    "    output = model_ft(images)"
   ]
  },
  {
   "cell_type": "markdown",
   "metadata": {},
   "source": [
    "output表示对一个batch中每一个数据得到其属于各个类别的可能性"
   ]
  },
  {
   "cell_type": "code",
   "execution_count": null,
   "metadata": {},
   "outputs": [],
   "source": [
    "# out1-batch\n",
    "# out2-类别概率\n",
    "output.shape"
   ]
  },
  {
   "cell_type": "markdown",
   "metadata": {},
   "source": [
    "### 得到概率最大的那个"
   ]
  },
  {
   "cell_type": "code",
   "execution_count": null,
   "metadata": {},
   "outputs": [],
   "source": [
    "# 得到可能性最大的类别预测ID\n",
    "_, preds_tensor = torch.max(output, 1)\n",
    "# 得到当前 batch 中 128 个样本的预测结果\n",
    "# gpu -> cpu 即 tensor -> numpy\n",
    "preds = np.squeeze(preds_tensor.numpy()) if not train_on_gpu else np.squeeze(preds_tensor.cpu().numpy())"
   ]
  },
  {
   "cell_type": "markdown",
   "metadata": {},
   "source": [
    "### 展示预测结果"
   ]
  },
  {
   "cell_type": "code",
   "execution_count": null,
   "metadata": {},
   "outputs": [],
   "source": [
    "def im_convert(tensor):\n",
    "    \"\"\" 展示数据\"\"\"\n",
    "    # 从 tensor cpu 中取出图像数据\n",
    "    image = tensor.to(\"cpu\").clone().detach()\n",
    "    # 将 tensor 转为 numpy 格式\n",
    "    image = image.numpy().squeeze()\n",
    "    # arg1-长\n",
    "    # arg2-宽\n",
    "    # arg3-通道数-RGB、灰度图\n",
    "    image = image.transpose(1,2,0)\n",
    "    image = image * np.array((0.229, 0.224, 0.225)) + np.array((0.485, 0.456, 0.406))\n",
    "    # 防止数值越界或异常等\n",
    "    image = image.clip(0, 1)\n",
    "\n",
    "    return image"
   ]
  },
  {
   "cell_type": "code",
   "execution_count": null,
   "metadata": {},
   "outputs": [],
   "source": [
    "fig=plt.figure(figsize=(20, 20))\n",
    "columns =4\n",
    "rows = 2\n",
    "\n",
    "# 绿色代表预测正确\n",
    "# 红色代表越策错误\n",
    "for idx in range (columns*rows):\n",
    "    ax = fig.add_subplot(rows, columns, idx+1, xticks=[], yticks=[])\n",
    "    plt.imshow(im_convert(images[idx]))\n",
    "    ax.set_title(\n",
    "        \"{} ({})\".format(cat_to_name[str(preds[idx])], cat_to_name[str(labels[idx].item())]),\n",
    "        color=(\"green\" if cat_to_name[str(preds[idx])]==cat_to_name[str(labels[idx].item())] else \"red\")\n",
    "    )\n",
    "plt.show()"
   ]
  },
  {
   "cell_type": "code",
   "execution_count": null,
   "metadata": {},
   "outputs": [],
   "source": []
  },
  {
   "cell_type": "code",
   "execution_count": null,
   "metadata": {},
   "outputs": [],
   "source": []
  }
 ],
 "metadata": {
  "accelerator": "GPU",
  "colab": {
   "collapsed_sections": [],
   "name": "Flowers Classification.ipynb",
   "provenance": [],
   "version": "0.3.2"
  },
  "kernelspec": {
   "display_name": "Python 3",
   "language": "python",
   "name": "python3"
  },
  "language_info": {
   "codemirror_mode": {
    "name": "ipython",
    "version": 3
   },
   "file_extension": ".py",
   "mimetype": "text/x-python",
   "name": "python",
   "nbconvert_exporter": "python",
   "pygments_lexer": "ipython3",
   "version": "3.6.8"
  }
 },
 "nbformat": 4,
 "nbformat_minor": 4
}
