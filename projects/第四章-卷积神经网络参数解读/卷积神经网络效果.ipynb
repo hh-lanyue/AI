{
 "cells": [
  {
   "cell_type": "markdown",
   "metadata": {},
   "source": [
    "### 构建卷积神经网络\n",
    "- 卷积网络中的输入和层与传统神经网络有些区别，需重新设计，训练模块基本一致"
   ]
  },
  {
   "cell_type": "code",
   "execution_count": 1,
   "metadata": {},
   "outputs": [],
   "source": [
    "import torch\n",
    "import torch.nn as nn\n",
    "import torch.optim as optim\n",
    "import torch.nn.functional as F\n",
    "# datasets-处理数据集、内置数据集\n",
    "# transforms-进行预处理操作\n",
    "from torchvision import datasets,transforms \n",
    "import matplotlib.pyplot as plt\n",
    "import numpy as np\n",
    "%matplotlib inline"
   ]
  },
  {
   "cell_type": "markdown",
   "metadata": {},
   "source": [
    "### 首先读取数据\n",
    "- 分别构建训练集和测试集（验证集）\n",
    "- DataLoader来迭代取数据"
   ]
  },
  {
   "cell_type": "code",
   "execution_count": 2,
   "metadata": {},
   "outputs": [],
   "source": [
    "# 定义超参数 \n",
    "# 图像的总尺寸28*28\n",
    "input_size = 28\n",
    "# 标签的种类数\n",
    "num_classes = 10\n",
    "# 训练的总循环周期\n",
    "num_epochs = 3  \n",
    "# 一个撮（批次）的大小，64张图片\n",
    "batch_size = 64  \n",
    "\n",
    "# 训练集\n",
    "train_dataset = datasets.MNIST(root='./data', train=True, transform=transforms.ToTensor(), download=True)\n",
    "\n",
    "# 测试集\n",
    "test_dataset = datasets.MNIST(root='./data', train=False, transform=transforms.ToTensor())\n",
    "\n",
    "# 构建 batch 数据\n",
    "train_loader = torch.utils.data.DataLoader(dataset=train_dataset, batch_size=batch_size, shuffle=True)\n",
    "test_loader = torch.utils.data.DataLoader(dataset=test_dataset, batch_size=batch_size, shuffle=True)"
   ]
  },
  {
   "cell_type": "markdown",
   "metadata": {},
   "source": [
    "### 卷积网络模块构建\n",
    "- 一般卷积层，relu层，池化层可以写成一个套餐\n",
    "- 注意卷积最后结果还是一个特征图，需要把图转换成向量才能做分类或者回归任务"
   ]
  },
  {
   "cell_type": "markdown",
   "metadata": {},
   "source": [
    "<img src=\"./imgs/1.png\" alt=\"FAO\" width=\"790\">"
   ]
  },
  {
   "cell_type": "code",
   "execution_count": null,
   "metadata": {},
   "outputs": [],
   "source": [
    "class CNN(nn.Module):\n",
    "    def __init__(self):\n",
    "        super(CNN, self).__init__()\n",
    "        # 定义一个序列\n",
    "        # 用2D卷积【1D-结构型数据、2D-图像、3D-视频】\n",
    "        self.conv1 = nn.Sequential(         # 输入大小 (1, 28, 28)\n",
    "            # pytorch 是 channel first\n",
    "            # in_channels=1   灰度图\n",
    "            # out_channels   卷积核个数=输出特诊图的个数=用来提取不同特征的卷积核\n",
    "            # 卷积核通道数 = 卷积输入的通道数\n",
    "            # 卷积输出层通道数 = 卷积核个数\n",
    "            # kernel_size   卷积核大小\n",
    "            # stride   步长\n",
    "            # padding   如果希望卷积后大小跟原来一样，需要设置 padding=(kernel_size-1)/2 if stride=1\n",
    "            # 输出特征图的大小[向下取整]=(h|w - f_size + 2p) / s + 1 = (28 - 5 + 4) / 1 + 1 = 28\n",
    "            # 输出的特征图为 (out_channels, 特征图大小w, 特征图大小h) -> (16, 28, 28)\n",
    "            nn.Conv2d(in_channels=1, out_channels=16, kernel_size=5, stride=1, padding=2),\n",
    "            # relu层\n",
    "            nn.ReLU(),\n",
    "            # 进行池化操作（2x2 区域）, 输出结果为： (16, 14, 14)\n",
    "            # 池化层一般都是压缩，将特征图大小压缩一半\n",
    "            nn.MaxPool2d(kernel_size=2) \n",
    "        )\n",
    "        self.conv2 = nn.Sequential(         # 下一个套餐的输入 (16, 14, 14)\n",
    "            nn.Conv2d(16, 32, 5, 1, 2),     # 输出 (32, 14, 14)\n",
    "            nn.ReLU(),                      # relu层\n",
    "            nn.Conv2d(32, 32, 5, 1, 2),\n",
    "            nn.ReLU(),\n",
    "            nn.MaxPool2d(2),                # 输出 (32, 7, 7)\n",
    "        )\n",
    "        \n",
    "        self.conv3 = nn.Sequential(         # 下一个套餐的输入 (16, 14, 14)\n",
    "            nn.Conv2d(32, 64, 5, 1, 2),     # 输出 (32, 14, 14)\n",
    "            nn.ReLU(),             # 输出 (32, 7, 7)\n",
    "        )\n",
    "        # 利用全连接层进行特征计算\n",
    "        self.out = nn.Linear(64 * 7 * 7, 10)   # 全连接层得到的结果\n",
    "\n",
    "    def forward(self, x):\n",
    "        x = self.conv1(x)\n",
    "        x = self.conv2(x)\n",
    "        x = self.conv3(x)\n",
    "        # -1 表示自动计算\n",
    "        # x.size(0) = batch\n",
    "        # view = reshape\n",
    "        # flatten操作，结果为：(batch_size, 32 * 7 * 7)\n",
    "        #  1. 将卷积得到的特征图转换为二维矩阵\n",
    "        #  2. 再对二维矩阵进行全连接层计算\n",
    "        x = x.view(x.size(0), -1)\n",
    "        output = self.out(x)\n",
    "        return output"
   ]
  },
  {
   "cell_type": "markdown",
   "metadata": {},
   "source": [
    "### 准确率作为评估标准"
   ]
  },
  {
   "cell_type": "code",
   "execution_count": null,
   "metadata": {},
   "outputs": [],
   "source": [
    "def accuracy(predictions, labels):\n",
    "    pred = torch.max(predictions.data, 1)[1] \n",
    "    rights = pred.eq(labels.data.view_as(pred)).sum() \n",
    "    return rights, len(labels) "
   ]
  },
  {
   "cell_type": "markdown",
   "metadata": {},
   "source": [
    "### 训练网络模型"
   ]
  },
  {
   "cell_type": "code",
   "execution_count": null,
   "metadata": {},
   "outputs": [],
   "source": [
    "# 实例化\n",
    "net = CNN() \n",
    "#损失函数\n",
    "criterion = nn.CrossEntropyLoss() \n",
    "#优化器\n",
    "optimizer = optim.Adam(net.parameters(), lr=0.001) #定义优化器，普通的随机梯度下降算法\n",
    "\n",
    "#开始训练循环\n",
    "for epoch in range(num_epochs):\n",
    "    #当前epoch的结果保存下来\n",
    "    train_rights = [] \n",
    "    \n",
    "    for batch_idx, (data, target) in enumerate(train_loader):  #针对容器中的每一个批进行循环\n",
    "        # 渲染模式\n",
    "        net.train()\n",
    "        # 预测值\n",
    "        output = net(data)\n",
    "        # 损失值\n",
    "        loss = criterion(output, target)\n",
    "        # 梯度清零\n",
    "        optimizer.zero_grad()\n",
    "        # 反向传播\n",
    "        loss.backward()\n",
    "        # 参数更新\n",
    "        optimizer.step()\n",
    "        # 正确个数\n",
    "        right = accuracy(output, target) \n",
    "        train_rights.append(right) \n",
    "\n",
    "    \n",
    "        if batch_idx % 100 == 0: \n",
    "            \n",
    "            net.eval() \n",
    "            val_rights = [] \n",
    "            \n",
    "            for (data, target) in test_loader:\n",
    "                output = net(data) \n",
    "                right = accuracy(output, target) \n",
    "                val_rights.append(right)\n",
    "                \n",
    "            #准确率计算\n",
    "            train_r = (sum([tup[0] for tup in train_rights]), sum([tup[1] for tup in train_rights]))\n",
    "            val_r = (sum([tup[0] for tup in val_rights]), sum([tup[1] for tup in val_rights]))\n",
    "\n",
    "            print('当前epoch: {} [{}/{} ({:.0f}%)]\\t损失: {:.6f}\\t训练集准确率: {:.2f}%\\t测试集正确率: {:.2f}%'.format(\n",
    "                epoch, batch_idx * batch_size, len(train_loader.dataset),\n",
    "                100. * batch_idx / len(train_loader), \n",
    "                loss.data, \n",
    "                100. * train_r[0].numpy() / train_r[1], \n",
    "                100. * val_r[0].numpy() / val_r[1]))"
   ]
  },
  {
   "cell_type": "markdown",
   "metadata": {},
   "source": [
    "### 练习\n",
    "- 再加入一层卷积，效果怎么样？\n",
    "- 当前任务中为什么全连接层是32*7*7 其中每一个数字代表什么含义"
   ]
  },
  {
   "cell_type": "code",
   "execution_count": null,
   "metadata": {
    "collapsed": true,
    "jupyter": {
     "outputs_hidden": true
    }
   },
   "outputs": [],
   "source": []
  },
  {
   "cell_type": "code",
   "execution_count": null,
   "metadata": {
    "collapsed": true,
    "jupyter": {
     "outputs_hidden": true
    }
   },
   "outputs": [],
   "source": []
  }
 ],
 "metadata": {
  "kernelspec": {
   "display_name": "Python 3",
   "language": "python",
   "name": "python3"
  },
  "language_info": {
   "codemirror_mode": {
    "name": "ipython",
    "version": 3
   },
   "file_extension": ".py",
   "mimetype": "text/x-python",
   "name": "python",
   "nbconvert_exporter": "python",
   "pygments_lexer": "ipython3",
   "version": "3.6.8"
  }
 },
 "nbformat": 4,
 "nbformat_minor": 4
}
