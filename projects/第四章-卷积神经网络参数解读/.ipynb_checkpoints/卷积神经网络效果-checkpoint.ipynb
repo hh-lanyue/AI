{
 "cells": [
  {
   "cell_type": "markdown",
   "metadata": {},
   "source": [
    "### 构建卷积神经网络\n",
    "- 卷积网络中的输入和层与传统神经网络有些区别，需重新设计，训练模块基本一致"
   ]
  },
  {
   "cell_type": "code",
   "execution_count": 1,
   "metadata": {},
   "outputs": [],
   "source": [
    "import torch\n",
    "import torch.nn as nn\n",
    "import torch.optim as optim\n",
    "import torch.nn.functional as F\n",
    "# datasets-处理数据集、内置数据集\n",
    "# transforms-进行预处理操作\n",
    "from torchvision import datasets,transforms \n",
    "import matplotlib.pyplot as plt\n",
    "import numpy as np\n",
    "%matplotlib inline"
   ]
  },
  {
   "cell_type": "markdown",
   "metadata": {},
   "source": [
    "### 首先读取数据\n",
    "- 分别构建训练集和测试集（验证集）\n",
    "- DataLoader来迭代取数据"
   ]
  },
  {
   "cell_type": "code",
   "execution_count": 2,
   "metadata": {},
   "outputs": [],
   "source": [
    "# 定义超参数 \n",
    "# 图像的总尺寸28*28\n",
    "input_size = 28\n",
    "# 标签的种类数\n",
    "num_classes = 10\n",
    "# 训练的总循环周期\n",
    "num_epochs = 3  \n",
    "# 一个撮（批次）的大小，64张图片\n",
    "batch_size = 64  \n",
    "\n",
    "# 训练集\n",
    "train_dataset = datasets.MNIST(root='./data', train=True, transform=transforms.ToTensor(), download=True) \n",
    "\n",
    "# 测试集\n",
    "test_dataset = datasets.MNIST(root='./data', train=False, transform=transforms.ToTensor())\n",
    "\n",
    "# 构建batch数据\n",
    "train_loader = torch.utils.data.DataLoader(dataset=train_dataset, batch_size=batch_size, shuffle=True)\n",
    "test_loader = torch.utils.data.DataLoader(dataset=test_dataset, batch_size=batch_size, shuffle=True)"
   ]
  },
  {
   "cell_type": "markdown",
   "metadata": {},
   "source": [
    "### 卷积网络模块构建\n",
    "- 一般卷积层，relu层，池化层可以写成一个套餐\n",
    "- 注意卷积最后结果还是一个特征图，需要把图转换成向量才能做分类或者回归任务"
   ]
  },
  {
   "cell_type": "code",
   "execution_count": 3,
   "metadata": {},
   "outputs": [],
   "source": [
    "class CNN(nn.Module):\n",
    "    def __init__(self):\n",
    "        super(CNN, self).__init__()\n",
    "        # 定义一个序列\n",
    "        # 用2D卷积【1D-结构型数据、2D-图像、3D-视频】\n",
    "        self.conv1 = nn.Sequential(         # 输入大小 (1, 28, 28)\n",
    "            # in_channels=1   灰度图\n",
    "            # out_channels   卷积核个数=输出特诊图的个数\n",
    "            # kernel_size   卷积核大小\n",
    "            # stride   步长\n",
    "            # padding   如果希望卷积后大小跟原来一样，需要设置 padding=(kernel_size-1)/2 if stride=1\n",
    "            # 输出特征图的大小[向下取整]=(h|w - f_size + 2p) / s + 1 = (28 - 5 + 4) / 1 + 1 = 28\n",
    "            # 输出的特征图为 (out_channels, 特征图大小w, 特征图大小h) -> (16, 28, 28)\n",
    "            nn.Conv2d(in_channels=1, out_channels=16, kernel_size=5, stride=1, padding=2),\n",
    "            # relu层\n",
    "            nn.ReLU(),\n",
    "            # 进行池化操作（2x2 区域）, 输出结果为： (16, 14, 14)\n",
    "            # 池化层一般都是压缩，将特征图大小压缩一半\n",
    "            nn.MaxPool2d(kernel_size=2) \n",
    "        )\n",
    "        self.conv2 = nn.Sequential(         # 下一个套餐的输入 (16, 14, 14)\n",
    "            nn.Conv2d(16, 32, 5, 1, 2),     # 输出 (32, 14, 14)\n",
    "            nn.ReLU(),                      # relu层\n",
    "            nn.Conv2d(32, 32, 5, 1, 2),\n",
    "            nn.ReLU(),\n",
    "            nn.MaxPool2d(2),                # 输出 (32, 7, 7)\n",
    "        )\n",
    "        \n",
    "        self.conv3 = nn.Sequential(         # 下一个套餐的输入 (16, 14, 14)\n",
    "            nn.Conv2d(32, 64, 5, 1, 2),     # 输出 (32, 14, 14)\n",
    "            nn.ReLU(),             # 输出 (32, 7, 7)\n",
    "        )\n",
    "        \n",
    "        self.out = nn.Linear(64 * 7 * 7, 10)   # 全连接层得到的结果\n",
    "\n",
    "    def forward(self, x):\n",
    "        x = self.conv1(x)\n",
    "        x = self.conv2(x)\n",
    "        x = self.conv3(x)\n",
    "        x = x.view(x.size(0), -1)           # flatten操作，结果为：(batch_size, 32 * 7 * 7)\n",
    "        output = self.out(x)\n",
    "        return output"
   ]
  },
  {
   "cell_type": "markdown",
   "metadata": {},
   "source": [
    "### 准确率作为评估标准"
   ]
  },
  {
   "cell_type": "code",
   "execution_count": 4,
   "metadata": {},
   "outputs": [],
   "source": [
    "def accuracy(predictions, labels):\n",
    "    pred = torch.max(predictions.data, 1)[1] \n",
    "    rights = pred.eq(labels.data.view_as(pred)).sum() \n",
    "    return rights, len(labels) "
   ]
  },
  {
   "cell_type": "markdown",
   "metadata": {},
   "source": [
    "### 训练网络模型"
   ]
  },
  {
   "cell_type": "code",
   "execution_count": 5,
   "metadata": {},
   "outputs": [
    {
     "name": "stdout",
     "output_type": "stream",
     "text": [
      "当前epoch: 0 [0/60000 (0%)]\t损失: 2.300828\t训练集准确率: 10.94%\t测试集正确率: 11.47%\n",
      "当前epoch: 0 [6400/60000 (11%)]\t损失: 0.254917\t训练集准确率: 76.56%\t测试集正确率: 93.35%\n",
      "当前epoch: 0 [12800/60000 (21%)]\t损失: 0.077504\t训练集准确率: 85.70%\t测试集正确率: 96.43%\n",
      "当前epoch: 0 [19200/60000 (32%)]\t损失: 0.044995\t训练集准确率: 89.25%\t测试集正确率: 97.34%\n",
      "当前epoch: 0 [25600/60000 (43%)]\t损失: 0.260137\t训练集准确率: 91.14%\t测试集正确率: 97.17%\n",
      "当前epoch: 0 [32000/60000 (53%)]\t损失: 0.029019\t训练集准确率: 92.42%\t测试集正确率: 97.96%\n",
      "当前epoch: 0 [38400/60000 (64%)]\t损失: 0.121509\t训练集准确率: 93.28%\t测试集正确率: 97.93%\n",
      "当前epoch: 0 [44800/60000 (75%)]\t损失: 0.054895\t训练集准确率: 93.89%\t测试集正确率: 98.20%\n",
      "当前epoch: 0 [51200/60000 (85%)]\t损失: 0.025774\t训练集准确率: 94.40%\t测试集正确率: 98.61%\n",
      "当前epoch: 0 [57600/60000 (96%)]\t损失: 0.087454\t训练集准确率: 94.82%\t测试集正确率: 98.60%\n",
      "当前epoch: 1 [0/60000 (0%)]\t损失: 0.011432\t训练集准确率: 100.00%\t测试集正确率: 98.66%\n",
      "当前epoch: 1 [6400/60000 (11%)]\t损失: 0.015491\t训练集准确率: 98.25%\t测试集正确率: 98.61%\n",
      "当前epoch: 1 [12800/60000 (21%)]\t损失: 0.017133\t训练集准确率: 98.46%\t测试集正确率: 98.67%\n",
      "当前epoch: 1 [19200/60000 (32%)]\t损失: 0.026759\t训练集准确率: 98.56%\t测试集正确率: 98.56%\n",
      "当前epoch: 1 [25600/60000 (43%)]\t损失: 0.010646\t训练集准确率: 98.57%\t测试集正确率: 98.66%\n",
      "当前epoch: 1 [32000/60000 (53%)]\t损失: 0.017855\t训练集准确率: 98.55%\t测试集正确率: 98.86%\n",
      "当前epoch: 1 [38400/60000 (64%)]\t损失: 0.035780\t训练集准确率: 98.54%\t测试集正确率: 98.67%\n",
      "当前epoch: 1 [44800/60000 (75%)]\t损失: 0.069641\t训练集准确率: 98.52%\t测试集正确率: 98.93%\n",
      "当前epoch: 1 [51200/60000 (85%)]\t损失: 0.006026\t训练集准确率: 98.56%\t测试集正确率: 98.76%\n",
      "当前epoch: 1 [57600/60000 (96%)]\t损失: 0.013345\t训练集准确率: 98.58%\t测试集正确率: 98.96%\n",
      "当前epoch: 2 [0/60000 (0%)]\t损失: 0.001192\t训练集准确率: 100.00%\t测试集正确率: 99.10%\n",
      "当前epoch: 2 [6400/60000 (11%)]\t损失: 0.047121\t训练集准确率: 98.99%\t测试集正确率: 98.58%\n",
      "当前epoch: 2 [12800/60000 (21%)]\t损失: 0.021669\t训练集准确率: 99.00%\t测试集正确率: 98.90%\n",
      "当前epoch: 2 [19200/60000 (32%)]\t损失: 0.015856\t训练集准确率: 99.07%\t测试集正确率: 99.19%\n",
      "当前epoch: 2 [25600/60000 (43%)]\t损失: 0.018283\t训练集准确率: 99.10%\t测试集正确率: 98.88%\n",
      "当前epoch: 2 [32000/60000 (53%)]\t损失: 0.005495\t训练集准确率: 99.12%\t测试集正确率: 99.03%\n",
      "当前epoch: 2 [38400/60000 (64%)]\t损失: 0.032473\t训练集准确率: 99.13%\t测试集正确率: 98.95%\n",
      "当前epoch: 2 [44800/60000 (75%)]\t损失: 0.008540\t训练集准确率: 99.11%\t测试集正确率: 99.09%\n",
      "当前epoch: 2 [51200/60000 (85%)]\t损失: 0.022340\t训练集准确率: 99.08%\t测试集正确率: 98.81%\n",
      "当前epoch: 2 [57600/60000 (96%)]\t损失: 0.017270\t训练集准确率: 99.07%\t测试集正确率: 99.12%\n"
     ]
    }
   ],
   "source": [
    "# 实例化\n",
    "net = CNN() \n",
    "#损失函数\n",
    "criterion = nn.CrossEntropyLoss() \n",
    "#优化器\n",
    "optimizer = optim.Adam(net.parameters(), lr=0.001) #定义优化器，普通的随机梯度下降算法\n",
    "\n",
    "#开始训练循环\n",
    "for epoch in range(num_epochs):\n",
    "    #当前epoch的结果保存下来\n",
    "    train_rights = [] \n",
    "    \n",
    "    for batch_idx, (data, target) in enumerate(train_loader):  #针对容器中的每一个批进行循环\n",
    "        net.train()                             \n",
    "        output = net(data) \n",
    "        loss = criterion(output, target) \n",
    "        optimizer.zero_grad() \n",
    "        loss.backward() \n",
    "        optimizer.step() \n",
    "        right = accuracy(output, target) \n",
    "        train_rights.append(right) \n",
    "\n",
    "    \n",
    "        if batch_idx % 100 == 0: \n",
    "            \n",
    "            net.eval() \n",
    "            val_rights = [] \n",
    "            \n",
    "            for (data, target) in test_loader:\n",
    "                output = net(data) \n",
    "                right = accuracy(output, target) \n",
    "                val_rights.append(right)\n",
    "                \n",
    "            #准确率计算\n",
    "            train_r = (sum([tup[0] for tup in train_rights]), sum([tup[1] for tup in train_rights]))\n",
    "            val_r = (sum([tup[0] for tup in val_rights]), sum([tup[1] for tup in val_rights]))\n",
    "\n",
    "            print('当前epoch: {} [{}/{} ({:.0f}%)]\\t损失: {:.6f}\\t训练集准确率: {:.2f}%\\t测试集正确率: {:.2f}%'.format(\n",
    "                epoch, batch_idx * batch_size, len(train_loader.dataset),\n",
    "                100. * batch_idx / len(train_loader), \n",
    "                loss.data, \n",
    "                100. * train_r[0].numpy() / train_r[1], \n",
    "                100. * val_r[0].numpy() / val_r[1]))"
   ]
  },
  {
   "cell_type": "markdown",
   "metadata": {},
   "source": [
    "### 练习\n",
    "- 再加入一层卷积，效果怎么样？\n",
    "- 当前任务中为什么全连接层是32*7*7 其中每一个数字代表什么含义"
   ]
  },
  {
   "cell_type": "code",
   "execution_count": null,
   "metadata": {
    "collapsed": true,
    "jupyter": {
     "outputs_hidden": true
    }
   },
   "outputs": [],
   "source": []
  },
  {
   "cell_type": "code",
   "execution_count": null,
   "metadata": {
    "collapsed": true,
    "jupyter": {
     "outputs_hidden": true
    }
   },
   "outputs": [],
   "source": []
  }
 ],
 "metadata": {
  "kernelspec": {
   "display_name": "Python 3",
   "language": "python",
   "name": "python3"
  },
  "language_info": {
   "codemirror_mode": {
    "name": "ipython",
    "version": 3
   },
   "file_extension": ".py",
   "mimetype": "text/x-python",
   "name": "python",
   "nbconvert_exporter": "python",
   "pygments_lexer": "ipython3",
   "version": "3.6.8"
  }
 },
 "nbformat": 4,
 "nbformat_minor": 4
}
